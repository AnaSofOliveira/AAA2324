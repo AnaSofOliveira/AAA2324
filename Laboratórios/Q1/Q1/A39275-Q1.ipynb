{
 "cells": [
  {
   "cell_type": "markdown",
   "metadata": {
    "id": "dSkuL_VJXZgu"
   },
   "source": [
    "# In-Class Quiz Nº 1"
   ]
  },
  {
   "cell_type": "markdown",
   "metadata": {
    "id": "Uupn6UWdXZgw"
   },
   "source": [
    "<hr style=\"border:1px  solid black\"> </hr>"
   ]
  },
  {
   "cell_type": "markdown",
   "metadata": {
    "id": "Ctkuu8F1XZgx"
   },
   "source": [
    "### (Fill in)\n",
    "## Name: Ana Sofia Oliveira\n",
    "## Number: 39275"
   ]
  },
  {
   "cell_type": "markdown",
   "metadata": {
    "id": "L1mlEpo2XZgx"
   },
   "source": [
    "<hr style=\"border:1px  solid black\"> </hr>"
   ]
  },
  {
   "cell_type": "markdown",
   "metadata": {
    "id": "1WzUSupVXZgx"
   },
   "source": [
    "## Develop and run the requested code in the cells immediately below the questions."
   ]
  },
  {
   "cell_type": "markdown",
   "metadata": {
    "id": "0qGMjzYiXZgx"
   },
   "source": [
    "# IMPORTANT:\n",
    "## Once completed, save this Jupyter notebook with the following name:\n",
    "## Axxxxx-Q1.ipynb (Axxxxx: student number)\n",
    "##  and then upload the file to the Moodle link provided for that purpose."
   ]
  },
  {
   "cell_type": "markdown",
   "metadata": {
    "id": "pb8uMQ9lXZgy"
   },
   "source": [
    "<hr style=\"border:2px solid black\"> </hr>"
   ]
  },
  {
   "cell_type": "markdown",
   "metadata": {
    "id": "jHROm8mwXZgy"
   },
   "source": [
    "# Data: $\\texttt{WhiteWine.p}$ dataset.\n",
    "### Consider the dataset  divided into two sub-sets, training/testing, according to the commands in the next cell.\n",
    "* ### X1: training data ($3398\\times11$ array)\n",
    "* ### y1: classes of the training data\n",
    "* ### X2: test data (array de $1500\\times11$)\n",
    "* ### y2: classes of the test data"
   ]
  },
  {
   "cell_type": "code",
   "execution_count": 8,
   "metadata": {
    "executionInfo": {
     "elapsed": 335,
     "status": "ok",
     "timestamp": 1711050068360,
     "user": {
      "displayName": "Ana Sofia Oliveira",
      "userId": "17698878581616340375"
     },
     "user_tz": 0
    },
    "id": "GCYsP9zyXZgy"
   },
   "outputs": [],
   "source": [
    "import numpy as np\n",
    "import matplotlib.pyplot as plt\n",
    "import pickle\n",
    "from sklearn.model_selection import  train_test_split\n",
    "pFile='WitheWine.p'\n",
    "D=pickle.load(open(pFile,'rb'))\n",
    "X=D.data\n",
    "y=D.target\n",
    "\n",
    "#division int training and test sub-sets\n",
    "X1,X2,y1,y2=train_test_split(X,y,test_size=1500,stratify=y,random_state=42)"
   ]
  },
  {
   "cell_type": "markdown",
   "metadata": {
    "id": "zfweo6NhXZgz"
   },
   "source": [
    "# Question 1:\n",
    "##  Consider a $\\texttt{RandomForestClassifier}$  with the following parameter $\\texttt{random\\_state=42}$.\n",
    "### a) Check which values for the parameters $\\texttt{n\\_estimators}$ and $\\texttt{max\\_depth}$ give the best score - use the function $\\texttt{GridSearchCV}$ with 3 folds on $\\texttt{X1}$. Test the following values for the parameter $\\texttt{n\\_estimators}$: 50, 75, 100 and 125 and for  $\\texttt{max\\_depth}$: 10 and 15.\n",
    "### b) How many models were trained/tested in 1.a) ?\n",
    "### c) Train the classifier with the whole training data and with the best parameters. Print the total number of errors and the confusion matrix for the test data.¶\n",
    "### c) Print the percentage of errors in each class in the test set."
   ]
  },
  {
   "cell_type": "markdown",
   "metadata": {
    "id": "0Q-M478gXZgz"
   },
   "source": [
    "## 1.a)"
   ]
  },
  {
   "cell_type": "code",
   "execution_count": 9,
   "metadata": {
    "colab": {
     "base_uri": "https://localhost:8080/"
    },
    "executionInfo": {
     "elapsed": 14868,
     "status": "ok",
     "timestamp": 1711049342427,
     "user": {
      "displayName": "Ana Sofia Oliveira",
      "userId": "17698878581616340375"
     },
     "user_tz": 0
    },
    "id": "9lipv9_0XZgz",
    "outputId": "65e2718c-4d73-4f0f-9105-0adc44ca78ef"
   },
   "outputs": [
    {
     "name": "stdout",
     "output_type": "stream",
     "text": [
      "Best Score:  0.6350745438535758\n",
      "Best Parameters:  {'max_depth': 15, 'n_estimators': 125}\n"
     ]
    }
   ],
   "source": [
    "from sklearn.ensemble import RandomForestClassifier\n",
    "from sklearn.model_selection import GridSearchCV\n",
    "\n",
    "rf = RandomForestClassifier(random_state=42).fit(X1, y1)\n",
    "\n",
    "parameters = {'n_estimators':[50, 75, 100, 125], 'max_depth':[10, 15]}\n",
    "\n",
    "grid_search = GridSearchCV(rf, parameters, cv=3)\n",
    "grid_search.fit(X1, y1)\n",
    "GridSearchCV(estimator=rf,\n",
    "             param_grid=parameters)\n",
    "\n",
    "\n",
    "print(\"Best Score: \", grid_search.best_score_)\n",
    "print(\"Best Parameters: \", grid_search.best_params_)"
   ]
  },
  {
   "cell_type": "markdown",
   "metadata": {
    "id": "zOOvzzTdXZg0"
   },
   "source": [
    "## 1.b)"
   ]
  },
  {
   "cell_type": "code",
   "execution_count": 10,
   "metadata": {
    "colab": {
     "base_uri": "https://localhost:8080/"
    },
    "executionInfo": {
     "elapsed": 257,
     "status": "ok",
     "timestamp": 1711048224616,
     "user": {
      "displayName": "Ana Sofia Oliveira",
      "userId": "17698878581616340375"
     },
     "user_tz": 0
    },
    "id": "mjVQMFdnXZg0",
    "outputId": "5c745bc4-7803-4dee-df72-1c7ea5a59d46"
   },
   "outputs": [],
   "source": [
    "# Com 3 folds nos dados de treino e 8 models por cada fold. Foram treinados e testados 8 * 3 = 24 modelos."
   ]
  },
  {
   "cell_type": "markdown",
   "metadata": {
    "id": "5IQ_WHPkXZg0"
   },
   "source": [
    "## 1.c)"
   ]
  },
  {
   "cell_type": "code",
   "execution_count": 11,
   "metadata": {
    "colab": {
     "base_uri": "https://localhost:8080/"
    },
    "executionInfo": {
     "elapsed": 1120,
     "status": "ok",
     "timestamp": 1711049343543,
     "user": {
      "displayName": "Ana Sofia Oliveira",
      "userId": "17698878581616340375"
     },
     "user_tz": 0
    },
    "id": "P4IrDm5dXZg0",
    "outputId": "e6f47bdd-f634-4d4e-e951-cdf1bdaa7c4e"
   },
   "outputs": [
    {
     "name": "stdout",
     "output_type": "stream",
     "text": [
      "Número Total de Erros:  497\n",
      "Matriz de Confusão: \n",
      " [[  0   0   1   4   1   0   0]\n",
      " [  0   7  28  15   0   0   0]\n",
      " [  0   4 308 134   0   0   0]\n",
      " [  0   1  90 531  51   0   0]\n",
      " [  0   0   6 128 134   1   0]\n",
      " [  0   0   0  16  15  23   0]\n",
      " [  0   0   0   1   1   0   0]]\n"
     ]
    }
   ],
   "source": [
    "from sklearn.metrics import confusion_matrix\n",
    "\n",
    "rf = RandomForestClassifier(random_state=42, n_estimators=125, max_depth=15).fit(X1, y1)\n",
    "y2e = rf.predict(X2)\n",
    "\n",
    "print(\"Número Total de Erros: \", np.sum(y2 != y2e))\n",
    "print(\"Matriz de Confusão: \\n\", confusion_matrix(y2, y2e))\n"
   ]
  },
  {
   "cell_type": "markdown",
   "metadata": {
    "id": "-6W1WhuFXZg0"
   },
   "source": [
    "## 1.d)"
   ]
  },
  {
   "cell_type": "code",
   "execution_count": 12,
   "metadata": {
    "colab": {
     "base_uri": "https://localhost:8080/"
    },
    "executionInfo": {
     "elapsed": 4,
     "status": "ok",
     "timestamp": 1711049343543,
     "user": {
      "displayName": "Ana Sofia Oliveira",
      "userId": "17698878581616340375"
     },
     "user_tz": 0
    },
    "id": "EAaiOWsFXZg0",
    "outputId": "041ed351-721c-4ef8-c46a-025a6a39d194"
   },
   "outputs": [
    {
     "name": "stdout",
     "output_type": "stream",
     "text": [
      "Erro na classe  3 :  100.0 %\n",
      "Erro na classe  4 :  86.0 %\n",
      "Erro na classe  5 :  30.94 %\n",
      "Erro na classe  6 :  21.1 %\n",
      "Erro na classe  7 :  50.19 %\n",
      "Erro na classe  8 :  57.41 %\n",
      "Erro na classe  9 :  100.0 %\n"
     ]
    }
   ],
   "source": [
    "for i in range(3, 10):\n",
    "    print(\"Erro na classe \", i, \": \", np.round(np.sum(y2[y2 != y2e] == i) / np.sum(y2 == i) * 100, 2), \"%\")\n"
   ]
  },
  {
   "cell_type": "markdown",
   "metadata": {
    "id": "n6FhpQ4TXZg0"
   },
   "source": [
    "<hr style=\"border:2px solid black\"> </hr>"
   ]
  },
  {
   "cell_type": "markdown",
   "metadata": {
    "id": "z-MIir0xXZg0"
   },
   "source": [
    "# Question 2:\n",
    "## This question is to convert the multi-class data into binary data.\n",
    "### a) Eliminate the examples of class  6 in the whole dataset. Consider as negative examples the ones from classes 3, 4 and 5, and the positive exemples the ones from the remaing classes.\n",
    "### b) Shuffle the resulting dadaset. Before shuffeling, execute the following command: $\\texttt{np.random.seed(42)}$\n",
    "### c) Divide the data into a training and test set. Use the first 1500 examples for training and the rest for testing."
   ]
  },
  {
   "cell_type": "markdown",
   "metadata": {
    "id": "LPkpN2o9XZg0"
   },
   "source": [
    "### 2.a)"
   ]
  },
  {
   "cell_type": "code",
   "execution_count": 13,
   "metadata": {
    "executionInfo": {
     "elapsed": 3,
     "status": "ok",
     "timestamp": 1711050071144,
     "user": {
      "displayName": "Ana Sofia Oliveira",
      "userId": "17698878581616340375"
     },
     "user_tz": 0
    },
    "id": "j1v0rQQBXZg0"
   },
   "outputs": [],
   "source": [
    "# Remover exemplos da classe 6\n",
    "X1 = X1[y1 != 6]\n",
    "y1 = y1[y1 != 6]\n",
    "\n",
    "X2 = X2[y2 != 6]\n",
    "y2 = y2[y2 != 6]\n",
    "\n",
    "# Negativos: Exemplos das classes 3, 4 e 5\n",
    "y1[(y1 == 3) | (y1 == 4) | (y1 == 5)] = 0\n",
    "y2[(y2 == 3) | (y2 == 4) | (y2 == 5)] = 0\n",
    "\n",
    "# Positivos: Exemplos das restantes classes (7, 8 e 9)\n",
    "y1[(y1 != 0)] = 1\n",
    "y2[(y2 != 0)] = 1\n",
    "\n"
   ]
  },
  {
   "cell_type": "markdown",
   "metadata": {
    "id": "Hm8WVbBCXZg0"
   },
   "source": [
    "### 2.b)"
   ]
  },
  {
   "cell_type": "code",
   "execution_count": 14,
   "metadata": {
    "colab": {
     "base_uri": "https://localhost:8080/",
     "height": 447
    },
    "executionInfo": {
     "elapsed": 939,
     "status": "ok",
     "timestamp": 1711050074482,
     "user": {
      "displayName": "Ana Sofia Oliveira",
      "userId": "17698878581616340375"
     },
     "user_tz": 0
    },
    "id": "ghrrWb1WXZg0",
    "outputId": "66b17b0e-0064-44a9-f969-6d5d62abbdaf"
   },
   "outputs": [],
   "source": [
    "X = np.concatenate((X1, X2), axis=0)\n",
    "y = np.concatenate((y1, y2), axis=0)\n",
    "\n",
    "np.random.seed(42)\n",
    "idx = np.random.permutation(len(y))\n",
    "X = X[idx]\n",
    "y = y[idx]"
   ]
  },
  {
   "cell_type": "markdown",
   "metadata": {
    "id": "el5N0gdPXZg0"
   },
   "source": [
    "### 2.c)"
   ]
  },
  {
   "cell_type": "code",
   "execution_count": 15,
   "metadata": {
    "colab": {
     "base_uri": "https://localhost:8080/"
    },
    "executionInfo": {
     "elapsed": 6,
     "status": "ok",
     "timestamp": 1711050224933,
     "user": {
      "displayName": "Ana Sofia Oliveira",
      "userId": "17698878581616340375"
     },
     "user_tz": 0
    },
    "id": "ZJahd_NjXZg0",
    "outputId": "25018f40-b7d3-430b-8856-8634c4ed4513"
   },
   "outputs": [
    {
     "name": "stdout",
     "output_type": "stream",
     "text": [
      "Dados de Treino:  (1500, 11) (1500,)\n",
      "Dados de Teste:  (1200, 11) (1200,)\n"
     ]
    }
   ],
   "source": [
    "# Primeiros 1500 exemplos para teste\n",
    "X1 = X[:1500]\n",
    "y1 = y[:1500]\n",
    "\n",
    "# Restantes exemplos para treino\n",
    "X2 = X[1500:]\n",
    "y2 = y[1500:]\n",
    "\n",
    "print(\"Dados de Treino: \", X1.shape, y1.shape)\n",
    "print(\"Dados de Teste: \", X2.shape, y2.shape)"
   ]
  },
  {
   "cell_type": "markdown",
   "metadata": {
    "id": "Dd7eUhekXZg1"
   },
   "source": [
    "<hr style=\"border:2px solid black\"> </hr>"
   ]
  },
  {
   "cell_type": "markdown",
   "metadata": {
    "id": "_3_H1I-3XZg1"
   },
   "source": [
    "# Question 3 - SVMs:\n",
    "## Consider the binary data obtained in Question 2\n",
    "## Consider a $\\texttt{SVC}$ classifier with the following parameters: $\\texttt{kernel='rbf'}$ and $\\texttt{C=2}$.\n",
    "### a) Train the $\\texttt{SVC}$ classifier with the training data. Print the confusion matrix and the total number of errors for the test data.\n",
    "### b) Preprocess the data using the function  $\\texttt{StandardScaler}$, and train the $\\texttt{SVC}$ classifier with the training data. Print the confusion matrix and the total number of errors for the test data.\n",
    "### c) For the test data, plot the ROC curves and the Precision and Recall curves for both classifiers (2 curves per figure). Include in these plots the operating point of the classifiers.\n"
   ]
  },
  {
   "cell_type": "markdown",
   "metadata": {
    "id": "cwilo6fBXZg1"
   },
   "source": [
    "## 2.a)"
   ]
  },
  {
   "cell_type": "code",
   "execution_count": 16,
   "metadata": {
    "colab": {
     "base_uri": "https://localhost:8080/"
    },
    "executionInfo": {
     "elapsed": 757,
     "status": "ok",
     "timestamp": 1711050961589,
     "user": {
      "displayName": "Ana Sofia Oliveira",
      "userId": "17698878581616340375"
     },
     "user_tz": 0
    },
    "id": "qy9deIt5XZg1",
    "outputId": "45265dcd-dfc6-4ff1-9c46-c859e02ee440"
   },
   "outputs": [
    {
     "name": "stdout",
     "output_type": "stream",
     "text": [
      "Número Total de Erros:  318\n",
      "Matriz de Confusão: \n",
      " [[616 107]\n",
      " [211 266]]\n"
     ]
    }
   ],
   "source": [
    "from sklearn.svm import SVC\n",
    "\n",
    "svm1 = SVC(kernel='rbf', C=2).fit(X1, y1)\n",
    "y2e = svm1.predict(X2)\n",
    "\n",
    "print(\"Número Total de Erros: \", np.sum(y2 != y2e))\n",
    "print(\"Matriz de Confusão: \\n\", confusion_matrix(y2, y2e))"
   ]
  },
  {
   "cell_type": "markdown",
   "metadata": {
    "id": "7Zuxi8b6XZg1"
   },
   "source": [
    "## 2.b)"
   ]
  },
  {
   "cell_type": "code",
   "execution_count": 17,
   "metadata": {
    "colab": {
     "base_uri": "https://localhost:8080/"
    },
    "executionInfo": {
     "elapsed": 699,
     "status": "ok",
     "timestamp": 1711050964682,
     "user": {
      "displayName": "Ana Sofia Oliveira",
      "userId": "17698878581616340375"
     },
     "user_tz": 0
    },
    "id": "EIGF-UC6XZg1",
    "outputId": "69348e71-37ec-4cf6-cb16-b4de9f162bcc"
   },
   "outputs": [
    {
     "name": "stdout",
     "output_type": "stream",
     "text": [
      "Número Total de Erros:  160\n",
      "Matriz de Confusão: \n",
      " [[645  78]\n",
      " [ 82 395]]\n"
     ]
    }
   ],
   "source": [
    "from sklearn.preprocessing import StandardScaler\n",
    "\n",
    "sc = StandardScaler().fit(X1)\n",
    "X1n = sc.transform(X1)\n",
    "X2n = sc.transform(X2)\n",
    "\n",
    "svm2 = SVC(kernel='rbf', C=2).fit(X1n, y1)\n",
    "y2e = svm2.predict(X2n)\n",
    "\n",
    "print(\"Número Total de Erros: \", np.sum(y2 != y2e))\n",
    "print(\"Matriz de Confusão: \\n\", confusion_matrix(y2, y2e))\n"
   ]
  },
  {
   "cell_type": "markdown",
   "metadata": {
    "id": "lBYAcHwTXZg1"
   },
   "source": [
    "## 2.c)"
   ]
  },
  {
   "cell_type": "code",
   "execution_count": 18,
   "metadata": {
    "colab": {
     "base_uri": "https://localhost:8080/",
     "height": 581
    },
    "executionInfo": {
     "elapsed": 1049,
     "status": "ok",
     "timestamp": 1711051545442,
     "user": {
      "displayName": "Ana Sofia Oliveira",
      "userId": "17698878581616340375"
     },
     "user_tz": 0
    },
    "id": "lKDooRXlXZg1",
    "outputId": "b450900c-bd20-4c6a-bf11-359ee02bbb93"
   },
   "outputs": [
    {
     "data": {
      "text/plain": [
       "Text(0, 0.5, 'TP-rate')"
      ]
     },
     "execution_count": 18,
     "metadata": {},
     "output_type": "execute_result"
    },
    {
     "data": {
      "image/png": "[encoded data removed]",
      "text/plain": [
       "<Figure size 600x600 with 1 Axes>"
      ]
     },
     "metadata": {},
     "output_type": "display_data"
    }
   ],
   "source": [
    "from sklearn.metrics import roc_curve\n",
    "\n",
    "y2c1 = svm1.decision_function(X2)\n",
    "y2c2 = svm2.decision_function(X2n)\n",
    "\n",
    "fpr1,tpr1,t1 = roc_curve(y2,y2c1)\n",
    "fpr2,tpr2,t2 = roc_curve(y2,y2c2)\n",
    "\n",
    "\n",
    "# Classificador 1\n",
    "# fp-rate=FP/(FP+TN)\n",
    "p11 = 211  / (211 + 266)\n",
    "# tp-rate=TP/(TP+FN)\n",
    "p12 = 616 / (616 + 107)\n",
    "\n",
    "# Classificador 2\n",
    "# fp-rate=FP/(FP+TN)\n",
    "p21 = 82 / (82 + 395)\n",
    "# tp-rate=TP/(TP+FN)\n",
    "p22 = 645 / (645 + 78)\n",
    "\n",
    "plt.figure(figsize=(6, 6))\n",
    "plt.plot(fpr1, tpr1, '-k')\n",
    "plt.plot(fpr2, tpr2, '-r')\n",
    "plt.plot(p11, p12, \"ok\", alpha=.4)\n",
    "plt.plot(p21, p22, \"or\", alpha=.4)\n",
    "\n",
    "plt.legend([\"Class. 1\", \"Class. 2\", \"P. O. Class. 1\", \"P. O. Class. 2\"])\n",
    "plt.axis(\"scaled\")\n",
    "plt.grid(True)\n",
    "plt.title(\"ROC curve\")\n",
    "plt.xlabel(\"FP-rate\")\n",
    "plt.ylabel(\"TP-rate\")"
   ]
  }
 ],
 "metadata": {
  "colab": {
   "provenance": []
  },
  "kernelspec": {
   "display_name": "Python 3 (ipykernel)",
   "language": "python",
   "name": "python3"
  },
  "language_info": {
   "codemirror_mode": {
    "name": "ipython",
    "version": 3
   },
   "file_extension": ".py",
   "mimetype": "text/x-python",
   "name": "python",
   "nbconvert_exporter": "python",
   "pygments_lexer": "ipython3",
   "version": "3.11.9"
  }
 },
 "nbformat": 4,
 "nbformat_minor": 4
}
