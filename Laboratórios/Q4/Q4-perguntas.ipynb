{
 "cells": [
  {
   "cell_type": "markdown",
   "metadata": {},
   "source": [
    "# In-Class Quiz Nº 4"
   ]
  },
  {
   "cell_type": "markdown",
   "metadata": {},
   "source": [
    "<hr style=\"border:1px  solid black\"> </hr>"
   ]
  },
  {
   "cell_type": "markdown",
   "metadata": {},
   "source": [
    "### (Fill in)\n",
    "## Name: \n",
    "## Number: "
   ]
  },
  {
   "cell_type": "markdown",
   "metadata": {},
   "source": [
    "<hr style=\"border:1px  solid black\"> </hr>"
   ]
  },
  {
   "cell_type": "markdown",
   "metadata": {},
   "source": [
    "## Develop and run the requested code in the cells immediately below the questions."
   ]
  },
  {
   "cell_type": "markdown",
   "metadata": {},
   "source": [
    "# IMPORTANT:\n",
    "## Once completed, save this Jupyter notebook with the following name:\n",
    "## Axxxxx-Q4.ipynb (Axxxxx: student number)\n",
    "##  and then upload the file to the Moodle link provided for that purpose."
   ]
  },
  {
   "cell_type": "markdown",
   "metadata": {},
   "source": [
    "<hr style=\"border:2px solid black\"> </hr>"
   ]
  },
  {
   "cell_type": "markdown",
   "metadata": {},
   "source": [
    "# Data: kMNIST dataset (small version) - pickle file $\\texttt{kMNISTsmall.p}$\n",
    "## This file has the following variables (in a dictionary)\n",
    "* ### X1: training data ($10000\\times(28\\times28)$  uint8 array)\n",
    "* ### y1: classes of the training data (10 japanese characters, class-numbers 0 to 9)\n",
    "* ### X2: test data ($5000\\times(28\\times28)$ uint8 array)\n",
    "* ### y2: classes of the test data (10 japanese characters, class-numbers 0 to 9)"
   ]
  },
  {
   "cell_type": "code",
   "execution_count": 1,
   "metadata": {},
   "outputs": [
    {
     "name": "stdout",
     "output_type": "stream",
     "text": [
      "(10000, 28, 28, 1)\n",
      "(5000, 28, 28, 1)\n",
      "(10000, 10)\n",
      "(5000, 10)\n"
     ]
    }
   ],
   "source": [
    "import numpy as np\n",
    "import matplotlib.pyplot as plt\n",
    "import tensorflow as tf\n",
    "import tensorflow.keras as keras\n",
    "from sklearn.metrics import confusion_matrix, roc_curve\n",
    "import pickle\n",
    "#for those who have the GPU enable, maybe uncomment the next lines\n",
    "#gp=tf.config.list_physical_devices('GPU')\n",
    "#print(gp)\n",
    "#tf.config.experimental.set_memory_growth(gp[0],True)\n",
    "\n",
    "#load data\n",
    "D=pickle.load(open('kMNISTsmall.p','rb'))\n",
    "X1=D.X1\n",
    "X2=D.X2\n",
    "y1=D.y1\n",
    "y2=D.y2\n",
    "#print(X1.shape,X2.shape)\n",
    "\n",
    "X1=X1/255.\n",
    "X2=X2/255.\n",
    "X1=X1.reshape(-1,28,28,1)\n",
    "X2=X2.reshape(-1,28,28,1)\n",
    "y1=keras.utils.to_categorical(y1)\n",
    "y2=keras.utils.to_categorical(y2)\n",
    "print(X1.shape)\n",
    "print(X2.shape)\n",
    "print(y1.shape)\n",
    "print(y2.shape)"
   ]
  },
  {
   "cell_type": "markdown",
   "metadata": {},
   "source": [
    "# Question 1: \n",
    "##  Build (from scratch) a CNN with an architecture of your choice and with the following restrictions:\n",
    "## - Use 6 convolutional layers\n",
    "## - Use 3 pooling layers\n",
    "## - DO NOT use data augmentation\n",
    "## - Obtain in the test set an accuracy equal or above 90%\n",
    "###  Build this network, compile and train the network using the kMNIST training set. Also include the test data as the validation set during training.\n",
    "###  Plot the  the losses and the accuracies curves for the training and validation sets during the training process.  Comment the results. Print the total number of errors and the confusion matrix for the test dataset."
   ]
  },
  {
   "cell_type": "code",
   "execution_count": 3,
   "metadata": {},
   "outputs": [
    {
     "name": "stdout",
     "output_type": "stream",
     "text": [
      "Model: \"sequential_1\"\n",
      "_________________________________________________________________\n",
      " Layer (type)                Output Shape              Param #   \n",
      "=================================================================\n",
      " conv2d_6 (Conv2D)           (None, 28, 28, 64)        6464      \n",
      "                                                                 \n",
      " conv2d_7 (Conv2D)           (None, 24, 24, 84)        134484    \n",
      "                                                                 \n",
      " average_pooling2d_3 (Averag  (None, 12, 12, 84)       0         \n",
      " ePooling2D)                                                     \n",
      "                                                                 \n",
      " conv2d_8 (Conv2D)           (None, 11, 11, 100)       33700     \n",
      "                                                                 \n",
      " average_pooling2d_4 (Averag  (None, 5, 5, 100)        0         \n",
      " ePooling2D)                                                     \n",
      "                                                                 \n",
      " conv2d_9 (Conv2D)           (None, 4, 4, 120)         48120     \n",
      "                                                                 \n",
      " average_pooling2d_5 (Averag  (None, 2, 2, 120)        0         \n",
      " ePooling2D)                                                     \n",
      "                                                                 \n",
      " conv2d_10 (Conv2D)          (None, 1, 1, 200)         96200     \n",
      "                                                                 \n",
      " conv2d_11 (Conv2D)          (None, 1, 1, 200)         40200     \n",
      "                                                                 \n",
      " flatten_1 (Flatten)         (None, 200)               0         \n",
      "                                                                 \n",
      " dense_1 (Dense)             (None, 84)                16884     \n",
      "                                                                 \n",
      " dense_2 (Dense)             (None, 10)                850       \n",
      "                                                                 \n",
      "=================================================================\n",
      "Total params: 376,902\n",
      "Trainable params: 376,902\n",
      "Non-trainable params: 0\n",
      "_________________________________________________________________\n"
     ]
    }
   ],
   "source": [
    "from tensorflow.keras import models\n",
    "from tensorflow.keras import layers\n",
    "lenet5 = models.Sequential()\n",
    "lenet5.add(layers.Conv2D(64, (10, 10), activation='relu', input_shape=(28, 28, 1),padding=\"same\"))\n",
    "lenet5.add(layers.Conv2D(84, (5, 5), activation='relu'))\n",
    "lenet5.add(layers.AveragePooling2D((2, 2)))\n",
    "lenet5.add(layers.Conv2D(100, (2, 2), activation='relu'))\n",
    "lenet5.add(layers.AveragePooling2D((2, 2)))\n",
    "lenet5.add(layers.Conv2D(120, (2, 2), activation='relu'))\n",
    "# lenet5.add(layers.Conv2D(16, (5, 5), activation='relu'))\n",
    "# lenet5.add(layers.Conv2D(16, (2, 2), activation='relu'))\n",
    "# lenet5.add(layers.AveragePooling2D((2, 2)))\n",
    "# lenet5.add(layers.Conv2D(200, (2, 2), activation='relu'))\n",
    "lenet5.add(layers.AveragePooling2D((2, 2)))\n",
    "lenet5.add(layers.Conv2D(200, (2, 2), activation='relu'))\n",
    "lenet5.add(layers.Conv2D(200, (1, 1), activation='relu'))\n",
    "lenet5.add(layers.Flatten())\n",
    "lenet5.add(layers.Dense(84, activation='relu'))\n",
    "lenet5.add(layers.Dense(10, activation='softmax'))\n",
    "lenet5.summary()\n"
   ]
  },
  {
   "cell_type": "code",
   "execution_count": 114,
   "metadata": {},
   "outputs": [
    {
     "name": "stdout",
     "output_type": "stream",
     "text": [
      "Epoch 1/20\n",
      "10/10 [==============================] - 45s 4s/step - loss: 2.1857 - accuracy: 0.1924 - val_loss: 2.0276 - val_accuracy: 0.3306\n",
      "Epoch 2/20\n",
      "10/10 [==============================] - 45s 5s/step - loss: 1.8242 - accuracy: 0.3963 - val_loss: 1.7931 - val_accuracy: 0.3506\n",
      "Epoch 3/20\n",
      "10/10 [==============================] - 48s 5s/step - loss: 1.4932 - accuracy: 0.4944 - val_loss: 1.5860 - val_accuracy: 0.4630\n",
      "Epoch 4/20\n",
      "10/10 [==============================] - 46s 5s/step - loss: 1.2103 - accuracy: 0.5934 - val_loss: 1.5008 - val_accuracy: 0.5116\n",
      "Epoch 5/20\n",
      "10/10 [==============================] - 46s 5s/step - loss: 0.9951 - accuracy: 0.6790 - val_loss: 1.2979 - val_accuracy: 0.5748\n",
      "Epoch 6/20\n",
      "10/10 [==============================] - 46s 5s/step - loss: 0.8298 - accuracy: 0.7245 - val_loss: 1.1635 - val_accuracy: 0.6192\n",
      "Epoch 7/20\n",
      "10/10 [==============================] - 47s 5s/step - loss: 0.7593 - accuracy: 0.7523 - val_loss: 1.1335 - val_accuracy: 0.6420\n",
      "Epoch 8/20\n",
      "10/10 [==============================] - 48s 5s/step - loss: 0.6987 - accuracy: 0.7720 - val_loss: 0.9745 - val_accuracy: 0.6814\n",
      "Epoch 9/20\n",
      "10/10 [==============================] - 49s 5s/step - loss: 0.5564 - accuracy: 0.8139 - val_loss: 0.8454 - val_accuracy: 0.7256\n",
      "Epoch 10/20\n",
      "10/10 [==============================] - 54s 5s/step - loss: 0.4961 - accuracy: 0.8409 - val_loss: 0.8397 - val_accuracy: 0.7318\n",
      "Epoch 11/20\n",
      "10/10 [==============================] - 52s 5s/step - loss: 0.4436 - accuracy: 0.8559 - val_loss: 0.8014 - val_accuracy: 0.7412\n",
      "Epoch 12/20\n",
      "10/10 [==============================] - 52s 5s/step - loss: 0.4085 - accuracy: 0.8644 - val_loss: 0.7543 - val_accuracy: 0.7530\n",
      "Epoch 13/20\n",
      "10/10 [==============================] - 55s 6s/step - loss: 0.5288 - accuracy: 0.8261 - val_loss: 1.0089 - val_accuracy: 0.6810\n",
      "Epoch 14/20\n",
      "10/10 [==============================] - 55s 5s/step - loss: 0.3711 - accuracy: 0.8845 - val_loss: 0.7053 - val_accuracy: 0.7714\n",
      "Epoch 15/20\n",
      "10/10 [==============================] - 55s 6s/step - loss: 0.2907 - accuracy: 0.9071 - val_loss: 0.6766 - val_accuracy: 0.7872\n",
      "Epoch 16/20\n",
      "10/10 [==============================] - 54s 5s/step - loss: 0.2880 - accuracy: 0.9053 - val_loss: 0.6548 - val_accuracy: 0.7882\n",
      "Epoch 17/20\n",
      "10/10 [==============================] - 52s 5s/step - loss: 0.2835 - accuracy: 0.9075 - val_loss: 0.6194 - val_accuracy: 0.8114\n",
      "Epoch 18/20\n",
      "10/10 [==============================] - 54s 6s/step - loss: 0.2292 - accuracy: 0.9252 - val_loss: 0.7212 - val_accuracy: 0.7712\n",
      "Epoch 19/20\n",
      "10/10 [==============================] - 50s 5s/step - loss: 0.2299 - accuracy: 0.9279 - val_loss: 0.5722 - val_accuracy: 0.8306\n",
      "Epoch 20/20\n",
      "10/10 [==============================] - 54s 5s/step - loss: 0.2106 - accuracy: 0.9316 - val_loss: 0.6513 - val_accuracy: 0.7934\n"
     ]
    }
   ],
   "source": [
    "lenet5.compile(optimizer=\"nadam\",loss=\"categorical_crossentropy\",metrics=[\"accuracy\"])\n",
    "tLog = lenet5.fit(X1, y1, epochs=20,batch_size=1024,validation_data=(X2, y2))"
   ]
  },
  {
   "cell_type": "code",
   "execution_count": null,
   "metadata": {},
   "outputs": [],
   "source": []
  },
  {
   "cell_type": "code",
   "execution_count": 10,
   "metadata": {},
   "outputs": [
    {
     "name": "stdout",
     "output_type": "stream",
     "text": [
      "[2 3 2 5 5 2 2 5 7 5]\n",
      "2\n",
      "[[  0   0  89  97   6 279   0  29   0   0]\n",
      " [  0   0 386   0   2  91   0  21   0   0]\n",
      " [  0   0 310   1   0 124   0  65   0   0]\n",
      " [  0   0 302  12  46  55   0  85   0   0]\n",
      " [  0   0 330  12   1  88   0  69   0   0]\n",
      " [  0   0 204  51  27 127   0  91   0   0]\n",
      " [  0   0 455   0   1  25   0  19   0   0]\n",
      " [  0   0 255   0  17 175   1  52   0   0]\n",
      " [  0   0 310  14   2 152   0  22   0   0]\n",
      " [  0   0 268   0  10 142   0  80   0   0]]\n",
      "Score: 10.040000000000001\n",
      "Number of erros: 4498\n"
     ]
    }
   ],
   "source": [
    "Y2e=lenet5.predict(X2)\n",
    "print(y2e[0:10])\n",
    "y2e=np.argmax(Y2e,axis=1)\n",
    "y2a=np.argmax(y2,axis=1)\n",
    "print(y2e[0])\n",
    "# print(y2a[1000:1100])\n",
    "# print(y2e.shape)\n",
    "# print(y2.shape)\n",
    "print(confusion_matrix(y2a,y2e))\n",
    "print('Score:',np.sum(y2a==y2e)/y2a.shape[0]*100)\n",
    "print('Number of erros:', np.sum(y2a!=y2e))"
   ]
  },
  {
   "cell_type": "code",
   "execution_count": 77,
   "metadata": {},
   "outputs": [
    {
     "data": {
      "text/plain": [
       "(0.0, 19.0, 0.0, 2.0)"
      ]
     },
     "execution_count": 77,
     "metadata": {},
     "output_type": "execute_result"
    },
    {
     "data": {
      "image/png": "[encoded data removed]",
      "text/plain": [
       "<Figure size 720x360 with 1 Axes>"
      ]
     },
     "metadata": {
      "needs_background": "light"
     },
     "output_type": "display_data"
    }
   ],
   "source": [
    "h=tLog.history\n",
    "plt.figure(figsize=(10,5))\n",
    "plt.plot(h['loss'])\n",
    "plt.plot(h['val_loss'])\n",
    "plt.plot(h['accuracy'])\n",
    "plt.plot(h['val_accuracy'])\n",
    "plt.grid(True)\n",
    "plt.axis([0,19,0,2])"
   ]
  },
  {
   "cell_type": "markdown",
   "metadata": {},
   "source": [
    "# Question 2\n",
    "## Consider that we want to use transfer learning to build a CNN to tackle the kMNIST dataset. For the pre-trained CNN use MobileNetV2. Use only one Dense layer for the output of the network.\n",
    "### a)  Build and compile this network.\n",
    "### b)  Pre-process the data so it can be used by the network.\n",
    "### c)  Train the network for 25 epochs and show the results. Compare the results with the ones obtained in the previous question and state the possible reasons for the differences in performance."
   ]
  },
  {
   "cell_type": "code",
   "execution_count": 5,
   "metadata": {},
   "outputs": [],
   "source": [
    "from tensorflow.keras.applications.mobilenet_v2 import MobileNetV2, preprocess_input\n",
    "D=pickle.load(open('kMNISTsmall.p','rb'))\n",
    "X1=D.X1\n",
    "X2=D.X2\n",
    "y1=D.y1\n",
    "y2=D.y2\n"
   ]
  },
  {
   "cell_type": "markdown",
   "metadata": {},
   "source": [
    "## 2.a)"
   ]
  },
  {
   "cell_type": "code",
   "execution_count": null,
   "metadata": {},
   "outputs": [],
   "source": []
  },
  {
   "cell_type": "markdown",
   "metadata": {},
   "source": [
    "## 2.b)"
   ]
  },
  {
   "cell_type": "code",
   "execution_count": null,
   "metadata": {},
   "outputs": [],
   "source": []
  },
  {
   "cell_type": "markdown",
   "metadata": {},
   "source": [
    "## 2.c)"
   ]
  },
  {
   "cell_type": "code",
   "execution_count": null,
   "metadata": {},
   "outputs": [],
   "source": []
  },
  {
   "cell_type": "markdown",
   "metadata": {},
   "source": [
    "<hr style=\"border:2px solid black\"> </hr>"
   ]
  },
  {
   "cell_type": "markdown",
   "metadata": {},
   "source": [
    "# Data: Cats and Dogs dataset (small version) - zip file $\\texttt{CatsDogsSmall.zip}$\n",
    "## This file is divided into two directories (train and test)\n",
    "## Each one has two sub-directories (dogs and cats)\n",
    "## The training data consists of a 1000 images of cats and 1000 images of dogs\n",
    "## The test data consists of 500 images of cats and 500 images of dogs\n",
    "## The images have various sizes"
   ]
  },
  {
   "cell_type": "markdown",
   "metadata": {},
   "source": [
    "# Question 3:\n",
    "## Consider that  we want to use transfer learning to build a CNN to perform a binary classification of the images (either a cat or a dog). Additionally with want to use data augmentation during the training process. \n",
    "### a)  Pick a pre-trained network of your choice and incorporate it in a CNN to tackle this problem. Build and compile the CNN.\n",
    "### b)  Using the $\\texttt{ImageDataGenerator}$ from Keras, build two generators (one for training and the other for testing). Note that the training generator has to include data augmentation. Pick one image of a dog and one image of a cat. Show these two original images and five versions of each image with data augmentation. Note: rescale the generated images so that its pixel values are between 0 and 255.\n",
    "### c)  Train the network for 25 epochs and show the results. Also include the test data as the validation set during training. Make sure to set the $\\texttt{steps_per_epoch}$ and the $\\texttt{validation_steps}$ so that each training epoch runs through the all the training and test images. Show the evolution of the accuracies and the losses during training and print the number of errors and the confusion matrix for the test data."
   ]
  },
  {
   "cell_type": "markdown",
   "metadata": {},
   "source": [
    "## 3.a)"
   ]
  },
  {
   "cell_type": "code",
   "execution_count": null,
   "metadata": {},
   "outputs": [],
   "source": []
  },
  {
   "cell_type": "markdown",
   "metadata": {},
   "source": [
    "## 3.b)"
   ]
  },
  {
   "cell_type": "code",
   "execution_count": null,
   "metadata": {},
   "outputs": [],
   "source": []
  },
  {
   "cell_type": "markdown",
   "metadata": {},
   "source": [
    "## 3.c)"
   ]
  },
  {
   "cell_type": "code",
   "execution_count": null,
   "metadata": {},
   "outputs": [],
   "source": []
  }
 ],
 "metadata": {
  "kernelspec": {
   "display_name": "Python 3",
   "language": "python",
   "name": "python3"
  },
  "language_info": {
   "codemirror_mode": {
    "name": "ipython",
    "version": 3
   },
   "file_extension": ".py",
   "mimetype": "text/x-python",
   "name": "python",
   "nbconvert_exporter": "python",
   "pygments_lexer": "ipython3",
   "version": "3.8.8"
  }
 },
 "nbformat": 4,
 "nbformat_minor": 4
}
